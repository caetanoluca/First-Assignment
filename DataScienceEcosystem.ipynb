{
 "cells": [
  {
   "cell_type": "markdown",
   "id": "a723dbc7-148d-4c93-af14-d16785bbd53b",
   "metadata": {},
   "source": [
    "# Data Science Tools and Ecosystem"
   ]
  },
  {
   "cell_type": "markdown",
   "id": "930dc5b1-af5c-493e-befa-dd30ba6d57c4",
   "metadata": {},
   "source": [
    "## In this notebook, Data Science Tools and Ecosystem are summarized."
   ]
  },
  {
   "cell_type": "markdown",
   "id": "5e5662aa-d320-4496-87fc-801caa1eb876",
   "metadata": {},
   "source": [
    "**Objectives**\n",
    "- List popular languages for Data Science\n",
    "- List libraries used by Data Scientists\n",
    "- Create a markdown cell with a table of Data Science tools\n",
    "- Understand and evaluate basic arithmetic expressions in Python"
   ]
  },
  {
   "cell_type": "markdown",
   "id": "436be208-0151-4bcd-9380-51bbbc50369b",
   "metadata": {},
   "source": [
    "Some of the popular languages that Data Scientists use are:\n",
    "\n",
    "1. Python\n",
    "2. R\n",
    "3. SQL"
   ]
  },
  {
   "cell_type": "markdown",
   "id": "d40f44b7-7947-41aa-8358-efb4c2973455",
   "metadata": {},
   "source": [
    "Some of the commonly used libraries used by Data Scientists include:\n",
    "\n",
    " 1. Matplotlib\n",
    " 2. Pandas\n",
    " 3. Seaborn"
   ]
  },
  {
   "cell_type": "markdown",
   "id": "8a115856-4f85-4d06-9e3c-c9b2b2b06ad2",
   "metadata": {},
   "source": [
    "| Data Science Tools |\n",
    "| ------------------ |\n",
    "| Jupyter notebooks  |\n",
    "|      RStudio       |\n",
    "|      Hadoop        |"
   ]
  },
  {
   "cell_type": "markdown",
   "id": "793cdf95-661f-4a81-87ff-a7fef7de25c0",
   "metadata": {},
   "source": [
    "### Below are a few examples of evaluating arithmetic expressions in Python"
   ]
  },
  {
   "cell_type": "code",
   "execution_count": 3,
   "id": "ab028bf0-eab3-450e-abb1-e88225c30dc7",
   "metadata": {},
   "outputs": [
    {
     "data": {
      "text/plain": [
       "17"
      ]
     },
     "execution_count": 3,
     "metadata": {},
     "output_type": "execute_result"
    }
   ],
   "source": [
    "(3*4)+5 # This is a simple arithmetic expression to mutiply then add integers"
   ]
  },
  {
   "cell_type": "code",
   "execution_count": 7,
   "id": "88af0cff-87b6-447e-a4ef-c4e979b138d3",
   "metadata": {},
   "outputs": [
    {
     "data": {
      "text/plain": [
       "3.3333333333333335"
      ]
     },
     "execution_count": 7,
     "metadata": {},
     "output_type": "execute_result"
    }
   ],
   "source": [
    "minutes = 200\n",
    "hours = minutes/60\n",
    "hours\n",
    "# This will convert 200 minutes to hours by diving by 60"
   ]
  },
  {
   "cell_type": "markdown",
   "id": "4e9f84c8-0a47-4cba-8a30-4a4f23e0cb0e",
   "metadata": {},
   "source": [
    "## Author\n",
    "Luca Caetano"
   ]
  }
 ],
 "metadata": {
  "kernelspec": {
   "display_name": "Python 3 (ipykernel)",
   "language": "python",
   "name": "python3"
  },
  "language_info": {
   "codemirror_mode": {
    "name": "ipython",
    "version": 3
   },
   "file_extension": ".py",
   "mimetype": "text/x-python",
   "name": "python",
   "nbconvert_exporter": "python",
   "pygments_lexer": "ipython3",
   "version": "3.12.7"
  }
 },
 "nbformat": 4,
 "nbformat_minor": 5
}
